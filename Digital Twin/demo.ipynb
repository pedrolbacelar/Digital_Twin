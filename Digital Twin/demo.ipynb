{
 "cells": [
  {
   "attachments": {},
   "cell_type": "markdown",
   "metadata": {},
   "source": [
    "# Demo"
   ]
  },
  {
   "cell_type": "code",
   "execution_count": 3,
   "metadata": {},
   "outputs": [],
   "source": [
    "from dtwinpy.Digital_Twin import Digital_Twin"
   ]
  },
  {
   "cell_type": "code",
   "execution_count": 4,
   "metadata": {},
   "outputs": [
    {
     "name": "stdout",
     "output_type": "stream",
     "text": [
      "Deleting existing model (excepted by 'initial.json') from the relative folder path:'models/mydt'\n",
      "Done! Deleted 0 successfuly\n",
      "exp_database_path: databases/mydt/exp_database.db\n",
      "--- printing databases paths ---\n",
      "Digital Database: 'databases/mydt/digital_database.db'\n",
      "Real Database: 'databases/mydt/real_database.db'\n",
      "ID Database: 'databases/mydt/ID_database.db'\n",
      "IP address not provided, Broker Manager not created. Considering an offiline enviorment\n",
      "\u001b[32m23 May 15:25:16 |---- Digital Twin 'mydt' created sucessfully ----\u001b[0m\n"
     ]
    }
   ],
   "source": [
    "mydt = Digital_Twin(name='mydt')"
   ]
  },
  {
   "cell_type": "code",
   "execution_count": null,
   "metadata": {},
   "outputs": [],
   "source": [
    "mymodel = mydt.generate_digital_model()"
   ]
  }
 ],
 "metadata": {
  "kernelspec": {
   "display_name": "Python 3",
   "language": "python",
   "name": "python3"
  },
  "language_info": {
   "codemirror_mode": {
    "name": "ipython",
    "version": 3
   },
   "file_extension": ".py",
   "mimetype": "text/x-python",
   "name": "python",
   "nbconvert_exporter": "python",
   "pygments_lexer": "ipython3",
   "version": "3.11.2"
  },
  "orig_nbformat": 4
 },
 "nbformat": 4,
 "nbformat_minor": 2
}
