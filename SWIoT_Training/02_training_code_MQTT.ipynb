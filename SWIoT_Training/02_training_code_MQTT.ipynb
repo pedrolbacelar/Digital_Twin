{
 "cells": [
  {
   "cell_type": "markdown",
   "id": "disturbed-malpractice",
   "metadata": {},
   "source": [
    "# **Treinamento Básico de SmartWorks IoT**\n",
    "## **Parte 2 - MQTT**\n",
    "\n",
    "O Message Queuing Telemetry Transport ou MQTT é um protocolo de rede leve de `publish/subscription` que transporta mensagens entre dispositivos. O protocolo geralmente é executado sobre TCP / IP; no entanto, qualquer protocolo de rede que forneça conexões bidirecionais ordenadas sem perdas pode suportar MQTT.\n",
    "\n",
    "MQTT é centrado em dados, enquanto HTTP é centrado em documentos. HTTP é o protocolo de solicitação-resposta para computação cliente-servidor e nem sempre otimizado para dispositivos móveis. Os principais benefícios sólidos do MQTT nesses termos são leveza (o MQTT transfere dados como uma matriz de bytes) e o modelo de `publish/subscription`, o que o torna perfeito para dispositivos com recursos limitados e ajuda a economizar bateria e banda. "
   ]
  },
  {
   "cell_type": "markdown",
   "id": "thick-knowing",
   "metadata": {},
   "source": [
    "## **Coletando dados do dispositivo**\n",
    "Assim como na primeira parte desse treinamento, utilizaremos os dados do nosso computador para simular um dispositivo conectado à internet."
   ]
  },
  {
   "cell_type": "code",
   "execution_count": 1,
   "id": "surprising-antarctica",
   "metadata": {},
   "outputs": [
    {
     "name": "stdout",
     "output_type": "stream",
     "text": [
      "{\n",
      "  \"cpu\": \"39.2\",\n",
      "  \"memory\": \"68.54\",\n",
      "  \"memory_available\": \"50.36\",\n",
      "  \"memory_percentage\": \"26.5\",\n",
      "  \"memory_used\": \"18.19\",\n",
      "  \"memory_free\": \"50.36\",\n",
      "  \"disk\": \"1024.21\",\n",
      "  \"disk_used\": \"828.28\",\n",
      "  \"disk_free\": \"195.93\",\n",
      "  \"disk_percentage\": \"80.9\"\n",
      "}\n"
     ]
    }
   ],
   "source": [
    "import modules.computer as pc\n",
    "import json\n",
    "\n",
    "pc.update_metrics()\n",
    "print(json.dumps(pc.computer_data, indent=2))"
   ]
  },
  {
   "cell_type": "markdown",
   "id": "blind-right",
   "metadata": {},
   "source": [
    "## **Identificando nosso dispositivo**\n",
    "A forma como identificaremos nosso dispositivo para comunicações MQTT é exatamente igual à forma como identificamos no HTTP."
   ]
  },
  {
   "cell_type": "code",
   "execution_count": 2,
   "id": "preceding-population",
   "metadata": {},
   "outputs": [],
   "source": [
    "space = \"trn-monitora\"\n",
    "collection = \"computadores\"\n",
    "thing_id = \"01FDZGA4YDZCQW233YP15T0TZW\""
   ]
  },
  {
   "cell_type": "markdown",
   "id": "subsequent-dealing",
   "metadata": {},
   "source": [
    "## Athenticação\n",
    "\n",
    "Diferentemente de HTTP, para comunicarmos via MQTT precisamos apenas saber o username e o password do dispositivo definidos na plataforma."
   ]
  },
  {
   "cell_type": "code",
   "execution_count": 3,
   "id": "requested-twelve",
   "metadata": {},
   "outputs": [],
   "source": [
    "username = \"pc_teste@trn-monitora\"\n",
    "password = \"monitora123\""
   ]
  },
  {
   "cell_type": "markdown",
   "id": "above-brick",
   "metadata": {},
   "source": [
    "## Tópicos\n",
    "\n",
    "Quando estamos falando de `publish/subscription` precisamos também entender o conceito de tópicos. Ao publicar uma mensagem, nós sempre estaremos publicando-a a um determinado tópico, apenas receberam essa mensagem, os `subscriptors` que realizarem a subscrição em naquele tópico no momento do envio da mensagem.\n",
    "\n",
    "O subscritor receberá apenas as mensagens enviadas a partir do momento da subscrição/assinatura, ou seja, ele não tem acesso ao histórico de envio. \n",
    "\n",
    "Um mesmo tópico pode ter vários subscriptors assim como vários publishers (apesar de o segundo caso não ser indicado)\n",
    "\n",
    "Vamos definir a estrutura de tópicos que utilizaremos"
   ]
  },
  {
   "cell_type": "code",
   "execution_count": 4,
   "id": "virgin-gasoline",
   "metadata": {},
   "outputs": [
    {
     "name": "stdout",
     "output_type": "stream",
     "text": [
      "trn-monitora/collections/computadores/things/01FDZGA4YDZCQW233YP15T0TZW\n"
     ]
    }
   ],
   "source": [
    "base_topic = \"{}/collections/{}/things/{}\".format(space, collection, thing_id)\n",
    "print(base_topic)"
   ]
  },
  {
   "cell_type": "markdown",
   "id": "selected-headset",
   "metadata": {},
   "source": [
    "Além disso, também precisaremos também difinir o endereço do nosso host."
   ]
  },
  {
   "cell_type": "code",
   "execution_count": 5,
   "id": "alert-joseph",
   "metadata": {},
   "outputs": [],
   "source": [
    "mqtt_host = \"mqtt.swx.altairone.com\""
   ]
  },
  {
   "cell_type": "markdown",
   "id": "informed-surveillance",
   "metadata": {},
   "source": [
    "## Publicando um conjunto de dados\n",
    "\n",
    "Para subscrever-se a uma propriedade, assim como qualquer outro endpoint, utilizaremos a biblioteca `paho-mqtt`para nos ajudar com a subscrição"
   ]
  },
  {
   "cell_type": "code",
   "execution_count": 30,
   "id": "faced-andorra",
   "metadata": {},
   "outputs": [
    {
     "data": {
      "text/plain": [
       "0"
      ]
     },
     "execution_count": 30,
     "metadata": {},
     "output_type": "execute_result"
    }
   ],
   "source": [
    "import paho.mqtt.client as mqtt\n",
    "\n",
    "client = mqtt.Client()\n",
    "client.username_pw_set(username = username, password = password)\n",
    "client.connect(mqtt_host, port = 1883, keepalive = 3600, bind_address=\"\")"
   ]
  },
  {
   "cell_type": "markdown",
   "id": "adapted-active",
   "metadata": {},
   "source": [
    "recebemos um 0, o que significa que a conexão foi bem sucedida. a conexão deverá durar 1 hora, caso ela finalize-se, basta executar o código acima novamente."
   ]
  },
  {
   "cell_type": "markdown",
   "id": "great-infrastructure",
   "metadata": {},
   "source": [
    "Para publicar a um tópico, utilizamos o formato \"set/base_topic/endpoint\". Então, para publicar ao tópico data, o tópico ficará assim."
   ]
  },
  {
   "cell_type": "code",
   "execution_count": 20,
   "id": "green-medicare",
   "metadata": {},
   "outputs": [
    {
     "name": "stdout",
     "output_type": "stream",
     "text": [
      "set/trn-monitora/collections/computadores/things/01FDZGA4YDZCQW233YP15T0TZW/data\n"
     ]
    }
   ],
   "source": [
    "data_pub = \"set/{}/data\".format(base_topic)\n",
    "print(data_pub)"
   ]
  },
  {
   "cell_type": "code",
   "execution_count": 24,
   "id": "rational-grill",
   "metadata": {},
   "outputs": [
    {
     "data": {
      "text/plain": [
       "<paho.mqtt.client.MQTTMessageInfo at 0x27ecb9968b0>"
      ]
     },
     "execution_count": 24,
     "metadata": {},
     "output_type": "execute_result"
    }
   ],
   "source": [
    "import json\n",
    "\n",
    "pc.update_metrics()\n",
    "client.publish(topic = data_pub, payload = json.dumps(pc.computer_data))"
   ]
  },
  {
   "cell_type": "markdown",
   "id": "color-graduate",
   "metadata": {},
   "source": [
    "## Subscrevendo ao tópico de dados\n",
    "\n",
    "Como haviamos mencionado anteriormente, todo tópico pode ter `publishers` e `subscriptors`. Quando vemos o novo data point ser adicionado à plataforma, a plataforma está atuando como um subscriptor e guardando as informações que ela lê no feed daquele tópico.\n",
    "\n",
    "Nós podemos entretando, subscrever a esse tópico de forma que podemos interceptar a informação e realizar a leitura ao mesmo tempo que a plataforma.\n",
    "\n",
    "Para que possamos visualizar a mensagem recebida, precisamos primeiro criar uma função que será chamada toda vez que o nosso subscriptor receber uma mensagem."
   ]
  },
  {
   "cell_type": "code",
   "execution_count": 25,
   "id": "celtic-carbon",
   "metadata": {},
   "outputs": [],
   "source": [
    "def on_message(client, userdata, message):\n",
    "    print(\"message received \" ,str(message.payload.decode(\"utf-8\")))"
   ]
  },
  {
   "cell_type": "markdown",
   "id": "waiting-blame",
   "metadata": {},
   "source": [
    "Uma vez que a função foi criada, podemos realizar a subscrição. "
   ]
  },
  {
   "cell_type": "code",
   "execution_count": 26,
   "id": "competent-medline",
   "metadata": {},
   "outputs": [
    {
     "name": "stdout",
     "output_type": "stream",
     "text": [
      "message received  {\"cpu\": \"99.2\", \"memory\": \"68.54\", \"memory_available\": \"42.25\", \"memory_percentage\": \"38.4\", \"memory_used\": \"26.29\", \"memory_free\": \"42.25\", \"disk\": \"1024.21\", \"disk_used\": \"827.92\", \"disk_free\": \"196.29\", \"disk_percentage\": \"80.8\"}\n",
      "message received  {\"cpu\": \"99.2\", \"memory\": \"68.54\", \"memory_available\": \"42.25\", \"memory_percentage\": \"38.4\", \"memory_used\": \"26.29\", \"memory_free\": \"42.25\", \"disk\": \"1024.21\", \"disk_used\": \"827.92\", \"disk_free\": \"196.29\", \"disk_percentage\": \"80.8\"}\n"
     ]
    }
   ],
   "source": [
    "import time\n",
    "\n",
    "client.subscribe(topic=data_pub)\n",
    "\n",
    "client.on_message = on_message\n",
    "client.loop_start()\n",
    "time.sleep(20)\n",
    "client.loop_stop()"
   ]
  },
  {
   "cell_type": "markdown",
   "id": "identical-combining",
   "metadata": {},
   "source": [
    "## Propriedades, Ações e Eventos\n"
   ]
  },
  {
   "cell_type": "markdown",
   "id": "broke-update",
   "metadata": {},
   "source": [
    "Para publicar ao tópico de propriedades utilizaremos a mesma estrutura de tópico utilizada para o envio de dados, mudando apenas o endpoint."
   ]
  },
  {
   "cell_type": "code",
   "execution_count": 27,
   "id": "intense-transsexual",
   "metadata": {},
   "outputs": [
    {
     "name": "stdout",
     "output_type": "stream",
     "text": [
      "set/trn-monitora/collections/computadores/things/01FDZGA4YDZCQW233YP15T0TZW/properties/cpu_usage\n"
     ]
    }
   ],
   "source": [
    "cpu_property_pub = \"set/{}/properties/cpu_usage\".format(base_topic)\n",
    "print(cpu_property_pub)"
   ]
  },
  {
   "cell_type": "markdown",
   "id": "removable-drive",
   "metadata": {},
   "source": [
    "O payload deve seguir os mesmos padrões deve ser concordante com a REST, caso contrário a propriedade não será atualizada"
   ]
  },
  {
   "cell_type": "code",
   "execution_count": 32,
   "id": "chicken-three",
   "metadata": {},
   "outputs": [
    {
     "name": "stdout",
     "output_type": "stream",
     "text": [
      "{'cpu_usage': 47.4}\n"
     ]
    }
   ],
   "source": [
    "pc.update_metrics()\n",
    "\n",
    "payload = {\n",
    "    \"cpu_usage\": float(pc.computer_data[\"cpu\"])\n",
    "}\n",
    "\n",
    "client.publish(topic = cpu_property_pub, payload = json.dumps(payload))\n",
    "print(payload)"
   ]
  },
  {
   "cell_type": "markdown",
   "id": "appointed-meaning",
   "metadata": {},
   "source": [
    "É possível também subscrever-se ao mesmo tópico, assim como fizemos com o data.\n",
    "\n",
    "Para Propriedades, Ações e Eventos, a plataforma disponibiliza outra estrutura de subcrição. Para acessa-la, basta substituir o `set` por `status` no início do tópico."
   ]
  },
  {
   "cell_type": "code",
   "execution_count": 33,
   "id": "later-luxury",
   "metadata": {},
   "outputs": [
    {
     "name": "stdout",
     "output_type": "stream",
     "text": [
      "status/trn-monitora/collections/computadores/things/01FDZGA4YDZCQW233YP15T0TZW/properties/cpu_usage\n"
     ]
    }
   ],
   "source": [
    "cpu_property_sub = \"status/{}/properties/cpu_usage\".format(base_topic)\n",
    "print(cpu_property_sub)"
   ]
  },
  {
   "cell_type": "code",
   "execution_count": 34,
   "id": "manual-japanese",
   "metadata": {},
   "outputs": [
    {
     "name": "stdout",
     "output_type": "stream",
     "text": [
      "message received  {\"cpu_usage\":85}\n",
      "message received  {\"cpu_usage\":90}\n"
     ]
    }
   ],
   "source": [
    "client.subscribe(topic=cpu_property_sub)\n",
    "\n",
    "client.on_message = on_message\n",
    "client.loop_start()\n",
    "time.sleep(20)\n",
    "client.loop_stop()"
   ]
  },
  {
   "cell_type": "markdown",
   "id": "extensive-course",
   "metadata": {},
   "source": [
    "Nessa estrutura, uma nova mensagem é publicada pela plataforma toda vez que uma propriedade/ação/evento é atualizada. Vejamos qual o resultado ao acessar uma ação."
   ]
  },
  {
   "cell_type": "code",
   "execution_count": 35,
   "id": "mighty-belgium",
   "metadata": {},
   "outputs": [
    {
     "name": "stdout",
     "output_type": "stream",
     "text": [
      "message received  {\"update_properties\":{\"href\":\"/spaces/trn-monitora/collections/computadores/things/01FDZGA4YDZCQW233YP15T0TZW/actions/update_properties/01FEEVX9ZWDY85ZCHZCPBHH7N2\",\"status\":\"pending\",\"timeRequested\":\"2021-08-31T19:45:22+0000\"}}\n"
     ]
    }
   ],
   "source": [
    "cpu_action_sub = \"status/{}/actions/update_properties\".format(base_topic)\n",
    "\n",
    "client.subscribe(topic=cpu_action_sub)\n",
    "\n",
    "client.on_message = on_message\n",
    "client.loop_start()\n",
    "time.sleep(20)\n",
    "client.loop_stop()"
   ]
  },
  {
   "cell_type": "code",
   "execution_count": null,
   "id": "caroline-insurance",
   "metadata": {},
   "outputs": [],
   "source": []
  }
 ],
 "metadata": {
  "kernelspec": {
   "display_name": "Python 3.9.5 64-bit",
   "language": "python",
   "name": "python3"
  },
  "language_info": {
   "codemirror_mode": {
    "name": "ipython",
    "version": 3
   },
   "file_extension": ".py",
   "mimetype": "text/x-python",
   "name": "python",
   "nbconvert_exporter": "python",
   "pygments_lexer": "ipython3",
   "version": "3.9.5"
  },
  "vscode": {
   "interpreter": {
    "hash": "b1f8a6fcfad2dbcea449451b8abb957fc6ba936417d4b53d6b4b7c7246c13c98"
   }
  }
 },
 "nbformat": 4,
 "nbformat_minor": 5
}
