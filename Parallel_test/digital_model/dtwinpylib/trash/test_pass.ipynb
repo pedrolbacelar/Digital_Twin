{
 "cells": [
  {
   "cell_type": "code",
   "execution_count": 10,
   "metadata": {},
   "outputs": [
    {
     "name": "stdout",
     "output_type": "stream",
     "text": [
      "Time: 0 - [Process 2] - Pass Process\n",
      "Time: 1 - [Process 1] - Finished Process\n",
      "Time: 2 - [Process 1] - Finished Process\n",
      "Time: 3 - [Process 1] - Finished Process\n",
      "Time: 4 - [Process 1] - Finished Process\n",
      "Time: 5 - [Process 1] - Finished Process\n",
      "Time: 6 - [Process 1] - Finished Process\n",
      "Time: 7 - [Process 1] - Finished Process\n",
      "Time: 8 - [Process 1] - Finished Process\n",
      "Time: 9 - [Process 1] - Finished Process\n"
     ]
    }
   ],
   "source": [
    "import simpy\n",
    "\n",
    "def process_1(env):\n",
    "    while True:\n",
    "        # some processing\n",
    "        yield env.timeout(1)\n",
    "        print(f\"Time: {env.now} - [Process 1] - Finished Process\")\n",
    "        control_event = env.event()  \n",
    "        control_event.succeed()  # transfer control back to process_1\n",
    "        \n",
    "\n",
    "\n",
    "def process_2(env):\n",
    "    while True:\n",
    "        print(f\"Time: {env.now} - [Process 2] - Pass Process\")\n",
    "        control_event = env.event()        \n",
    "        yield control_event\n",
    "        \n",
    "        \n",
    "\n",
    "env = simpy.Environment()\n",
    "env.process(process_1(env))\n",
    "env.process(process_2(env))\n",
    "env.run(until=10)"
   ]
  },
  {
   "cell_type": "code",
   "execution_count": 15,
   "metadata": {},
   "outputs": [
    {
     "name": "stdout",
     "output_type": "stream",
     "text": [
      "Time: 1 - [Process 1] - Finished Process\n",
      "Time: 1 - [Process 2] - Pass Process\n"
     ]
    },
    {
     "ename": "AttributeError",
     "evalue": "'Event' object has no attribute 'reset'",
     "output_type": "error",
     "traceback": [
      "\u001b[1;31m---------------------------------------------------------------------------\u001b[0m",
      "\u001b[1;31mAttributeError\u001b[0m                            Traceback (most recent call last)",
      "Cell \u001b[1;32mIn[15], line 18\u001b[0m, in \u001b[0;36mprocess_2\u001b[1;34m(env, control_event)\u001b[0m\n\u001b[0;32m     16\u001b[0m \u001b[39mprint\u001b[39m(\u001b[39mf\u001b[39m\u001b[39m\"\u001b[39m\u001b[39mTime: \u001b[39m\u001b[39m{\u001b[39;00menv\u001b[39m.\u001b[39mnow\u001b[39m}\u001b[39;00m\u001b[39m - [Process 2] - Pass Process\u001b[39m\u001b[39m\"\u001b[39m)\n\u001b[1;32m---> 18\u001b[0m control_event\u001b[39m.\u001b[39;49mreset()\n",
      "\u001b[1;31mAttributeError\u001b[0m: 'Event' object has no attribute 'reset'",
      "\nThe above exception was the direct cause of the following exception:\n",
      "\u001b[1;31mAttributeError\u001b[0m                            Traceback (most recent call last)",
      "Cell \u001b[1;32mIn[15], line 24\u001b[0m\n\u001b[0;32m     22\u001b[0m env\u001b[39m.\u001b[39mprocess(process_1(env, control_event))\n\u001b[0;32m     23\u001b[0m env\u001b[39m.\u001b[39mprocess(process_2(env, control_event))\n\u001b[1;32m---> 24\u001b[0m env\u001b[39m.\u001b[39;49mrun(until\u001b[39m=\u001b[39;49m\u001b[39m10\u001b[39;49m)\n",
      "File \u001b[1;32mc:\\Users\\pedro\\.virtualenvs\\DTvirtenv-blc9_2om\\lib\\site-packages\\simpy\\core.py:254\u001b[0m, in \u001b[0;36mEnvironment.run\u001b[1;34m(self, until)\u001b[0m\n\u001b[0;32m    252\u001b[0m \u001b[39mtry\u001b[39;00m:\n\u001b[0;32m    253\u001b[0m     \u001b[39mwhile\u001b[39;00m \u001b[39mTrue\u001b[39;00m:\n\u001b[1;32m--> 254\u001b[0m         \u001b[39mself\u001b[39;49m\u001b[39m.\u001b[39;49mstep()\n\u001b[0;32m    255\u001b[0m \u001b[39mexcept\u001b[39;00m StopSimulation \u001b[39mas\u001b[39;00m exc:\n\u001b[0;32m    256\u001b[0m     \u001b[39mreturn\u001b[39;00m exc\u001b[39m.\u001b[39margs[\u001b[39m0\u001b[39m]  \u001b[39m# == until.value\u001b[39;00m\n",
      "File \u001b[1;32mc:\\Users\\pedro\\.virtualenvs\\DTvirtenv-blc9_2om\\lib\\site-packages\\simpy\\core.py:206\u001b[0m, in \u001b[0;36mEnvironment.step\u001b[1;34m(self)\u001b[0m\n\u001b[0;32m    204\u001b[0m exc \u001b[39m=\u001b[39m \u001b[39mtype\u001b[39m(event\u001b[39m.\u001b[39m_value)(\u001b[39m*\u001b[39mevent\u001b[39m.\u001b[39m_value\u001b[39m.\u001b[39margs)\n\u001b[0;32m    205\u001b[0m exc\u001b[39m.\u001b[39m__cause__ \u001b[39m=\u001b[39m event\u001b[39m.\u001b[39m_value\n\u001b[1;32m--> 206\u001b[0m \u001b[39mraise\u001b[39;00m exc\n",
      "\u001b[1;31mAttributeError\u001b[0m: 'Event' object has no attribute 'reset'"
     ]
    }
   ],
   "source": [
    "import simpy\n",
    "\n",
    "def process_1(env, control_event):\n",
    "    while True:\n",
    "        # some processing\n",
    "        yield env.timeout(1)\n",
    "        print(f\"Time: {env.now} - [Process 1] - Finished Process\")\n",
    "\n",
    "        control_event.succeed()  # transfer control to process_2\n",
    "\n",
    "def process_2(env, control_event):\n",
    "    while True:\n",
    "        yield control_event\n",
    "        # some processing\n",
    "        \n",
    "        print(f\"Time: {env.now} - [Process 2] - Pass Process\")\n",
    "\n",
    "        control_event.reset()  # transfer control back to process_1\n",
    "\n",
    "env = simpy.Environment()\n",
    "control_event = env.event()\n",
    "env.process(process_1(env, control_event))\n",
    "env.process(process_2(env, control_event))\n",
    "env.run(until=10)\n"
   ]
  },
  {
   "cell_type": "code",
   "execution_count": 16,
   "metadata": {},
   "outputs": [
    {
     "ename": "FileNotFoundError",
     "evalue": "[Errno 2] No such file or directory: 'C:\\\\Users\\\\pedro\\\\AppData\\\\Local\\\\Temp\\\\ipykernel_84492\\\\3193223991.py'",
     "output_type": "error",
     "traceback": [
      "\u001b[1;31m---------------------------------------------------------------------------\u001b[0m",
      "\u001b[1;31mAttributeError\u001b[0m                            Traceback (most recent call last)",
      "File \u001b[1;32mc:\\Users\\pedro\\.virtualenvs\\DTvirtenv-blc9_2om\\lib\\site-packages\\simpy\\events.py:424\u001b[0m, in \u001b[0;36mProcess._resume\u001b[1;34m(self, event)\u001b[0m\n\u001b[0;32m    422\u001b[0m \u001b[39mtry\u001b[39;00m:\n\u001b[0;32m    423\u001b[0m     \u001b[39m# Be optimistic and blindly access the callbacks attribute.\u001b[39;00m\n\u001b[1;32m--> 424\u001b[0m     \u001b[39mif\u001b[39;00m event\u001b[39m.\u001b[39;49mcallbacks \u001b[39mis\u001b[39;00m \u001b[39mnot\u001b[39;00m \u001b[39mNone\u001b[39;00m:\n\u001b[0;32m    425\u001b[0m         \u001b[39m# The event has not yet been triggered. Register callback\u001b[39;00m\n\u001b[0;32m    426\u001b[0m         \u001b[39m# to resume the process if that happens.\u001b[39;00m\n\u001b[0;32m    427\u001b[0m         event\u001b[39m.\u001b[39mcallbacks\u001b[39m.\u001b[39mappend(\u001b[39mself\u001b[39m\u001b[39m.\u001b[39m_resume)\n",
      "\u001b[1;31mAttributeError\u001b[0m: 'bool' object has no attribute 'callbacks'",
      "\nDuring handling of the above exception, another exception occurred:\n",
      "\u001b[1;31mFileNotFoundError\u001b[0m                         Traceback (most recent call last)",
      "Cell \u001b[1;32mIn[16], line 34\u001b[0m\n\u001b[0;32m     32\u001b[0m env\u001b[39m.\u001b[39mprocess(machine_1(env, queue2, queue1))\n\u001b[0;32m     33\u001b[0m env\u001b[39m.\u001b[39mprocess(machine_2(env, queue1, queue2))\n\u001b[1;32m---> 34\u001b[0m env\u001b[39m.\u001b[39;49mrun(until\u001b[39m=\u001b[39;49m\u001b[39m20\u001b[39;49m)\n",
      "File \u001b[1;32mc:\\Users\\pedro\\.virtualenvs\\DTvirtenv-blc9_2om\\lib\\site-packages\\simpy\\core.py:254\u001b[0m, in \u001b[0;36mEnvironment.run\u001b[1;34m(self, until)\u001b[0m\n\u001b[0;32m    252\u001b[0m \u001b[39mtry\u001b[39;00m:\n\u001b[0;32m    253\u001b[0m     \u001b[39mwhile\u001b[39;00m \u001b[39mTrue\u001b[39;00m:\n\u001b[1;32m--> 254\u001b[0m         \u001b[39mself\u001b[39;49m\u001b[39m.\u001b[39;49mstep()\n\u001b[0;32m    255\u001b[0m \u001b[39mexcept\u001b[39;00m StopSimulation \u001b[39mas\u001b[39;00m exc:\n\u001b[0;32m    256\u001b[0m     \u001b[39mreturn\u001b[39;00m exc\u001b[39m.\u001b[39margs[\u001b[39m0\u001b[39m]  \u001b[39m# == until.value\u001b[39;00m\n",
      "File \u001b[1;32mc:\\Users\\pedro\\.virtualenvs\\DTvirtenv-blc9_2om\\lib\\site-packages\\simpy\\core.py:198\u001b[0m, in \u001b[0;36mEnvironment.step\u001b[1;34m(self)\u001b[0m\n\u001b[0;32m    196\u001b[0m callbacks, event\u001b[39m.\u001b[39mcallbacks \u001b[39m=\u001b[39m event\u001b[39m.\u001b[39mcallbacks, \u001b[39mNone\u001b[39;00m  \u001b[39m# type: ignore\u001b[39;00m\n\u001b[0;32m    197\u001b[0m \u001b[39mfor\u001b[39;00m callback \u001b[39min\u001b[39;00m callbacks:\n\u001b[1;32m--> 198\u001b[0m     callback(event)\n\u001b[0;32m    200\u001b[0m \u001b[39mif\u001b[39;00m \u001b[39mnot\u001b[39;00m event\u001b[39m.\u001b[39m_ok \u001b[39mand\u001b[39;00m \u001b[39mnot\u001b[39;00m \u001b[39mhasattr\u001b[39m(event, \u001b[39m'\u001b[39m\u001b[39m_defused\u001b[39m\u001b[39m'\u001b[39m):\n\u001b[0;32m    201\u001b[0m     \u001b[39m# The event has failed and has not been defused. Crash the\u001b[39;00m\n\u001b[0;32m    202\u001b[0m     \u001b[39m# environment.\u001b[39;00m\n\u001b[0;32m    203\u001b[0m     \u001b[39m# Create a copy of the failure exception with a new traceback.\u001b[39;00m\n\u001b[0;32m    204\u001b[0m     exc \u001b[39m=\u001b[39m \u001b[39mtype\u001b[39m(event\u001b[39m.\u001b[39m_value)(\u001b[39m*\u001b[39mevent\u001b[39m.\u001b[39m_value\u001b[39m.\u001b[39margs)\n",
      "File \u001b[1;32mc:\\Users\\pedro\\.virtualenvs\\DTvirtenv-blc9_2om\\lib\\site-packages\\simpy\\events.py:436\u001b[0m, in \u001b[0;36mProcess._resume\u001b[1;34m(self, event)\u001b[0m\n\u001b[0;32m    433\u001b[0m     \u001b[39mraise\u001b[39;00m\n\u001b[0;32m    435\u001b[0m msg \u001b[39m=\u001b[39m \u001b[39mf\u001b[39m\u001b[39m'\u001b[39m\u001b[39mInvalid yield value \u001b[39m\u001b[39m\"\u001b[39m\u001b[39m{\u001b[39;00mevent\u001b[39m}\u001b[39;00m\u001b[39m\"\u001b[39m\u001b[39m'\u001b[39m\n\u001b[1;32m--> 436\u001b[0m descr \u001b[39m=\u001b[39m _describe_frame(\u001b[39mself\u001b[39;49m\u001b[39m.\u001b[39;49m_generator\u001b[39m.\u001b[39;49mgi_frame)\n\u001b[0;32m    437\u001b[0m error \u001b[39m=\u001b[39m \u001b[39mRuntimeError\u001b[39;00m(\u001b[39mf\u001b[39m\u001b[39m'\u001b[39m\u001b[39m\\n\u001b[39;00m\u001b[39m{\u001b[39;00mdescr\u001b[39m}\u001b[39;00m\u001b[39m{\u001b[39;00mmsg\u001b[39m}\u001b[39;00m\u001b[39m'\u001b[39m)\n\u001b[0;32m    438\u001b[0m \u001b[39m# Drop the AttributeError as the cause for this exception.\u001b[39;00m\n",
      "File \u001b[1;32mc:\\Users\\pedro\\.virtualenvs\\DTvirtenv-blc9_2om\\lib\\site-packages\\simpy\\events.py:645\u001b[0m, in \u001b[0;36m_describe_frame\u001b[1;34m(frame)\u001b[0m\n\u001b[0;32m    642\u001b[0m filename, name \u001b[39m=\u001b[39m frame\u001b[39m.\u001b[39mf_code\u001b[39m.\u001b[39mco_filename, frame\u001b[39m.\u001b[39mf_code\u001b[39m.\u001b[39mco_name\n\u001b[0;32m    643\u001b[0m lineno \u001b[39m=\u001b[39m frame\u001b[39m.\u001b[39mf_lineno\n\u001b[1;32m--> 645\u001b[0m \u001b[39mwith\u001b[39;00m \u001b[39mopen\u001b[39;49m(filename) \u001b[39mas\u001b[39;00m f:\n\u001b[0;32m    646\u001b[0m     \u001b[39mfor\u001b[39;00m no, line \u001b[39min\u001b[39;00m \u001b[39menumerate\u001b[39m(f):\n\u001b[0;32m    647\u001b[0m         \u001b[39mif\u001b[39;00m no \u001b[39m+\u001b[39m \u001b[39m1\u001b[39m \u001b[39m==\u001b[39m lineno:\n",
      "\u001b[1;31mFileNotFoundError\u001b[0m: [Errno 2] No such file or directory: 'C:\\\\Users\\\\pedro\\\\AppData\\\\Local\\\\Temp\\\\ipykernel_84492\\\\3193223991.py'"
     ]
    }
   ],
   "source": [
    "import simpy\n",
    "\n",
    "def machine_1(env, queue_in, queue_out):\n",
    "    while True:\n",
    "        flag_queue = False\n",
    "        if len(queue_in) != 0 : flag_queue = True\n",
    "\n",
    "        yield flag_queue\n",
    "\n",
    "        # some processing\n",
    "        queue_in.pop()\n",
    "        yield env.timeout(5)\n",
    "        print(f\"Time: {env.now} - [Machine 1] - Finished Process\")\n",
    "        queue_out.append(1)\n",
    "\n",
    "def machine_2(env, queue_in, queue_out):\n",
    "    while True:\n",
    "        flag_queue = False\n",
    "        if len(queue_in) != 0 : flag_queue = True\n",
    "\n",
    "        yield flag_queue\n",
    "\n",
    "        # some processing\n",
    "        queue_in.pop()\n",
    "        yield env.timeout(1)\n",
    "        print(f\"Time: {env.now} - [Machine 2] - Finished Process\")\n",
    "        queue_out.append(1)\n",
    "\n",
    "queue1 = []\n",
    "queue2 = [1,1,1]\n",
    "\n",
    "env = simpy.Environment()\n",
    "env.process(machine_1(env, queue2, queue1))\n",
    "env.process(machine_2(env, queue1, queue2))\n",
    "env.run(until=20)"
   ]
  },
  {
   "cell_type": "code",
   "execution_count": 17,
   "metadata": {},
   "outputs": [
    {
     "ename": "FileNotFoundError",
     "evalue": "[Errno 2] No such file or directory: 'C:\\\\Users\\\\pedro\\\\AppData\\\\Local\\\\Temp\\\\ipykernel_84492\\\\644055464.py'",
     "output_type": "error",
     "traceback": [
      "\u001b[1;31m---------------------------------------------------------------------------\u001b[0m",
      "\u001b[1;31mAttributeError\u001b[0m                            Traceback (most recent call last)",
      "File \u001b[1;32mc:\\Users\\pedro\\.virtualenvs\\DTvirtenv-blc9_2om\\lib\\site-packages\\simpy\\events.py:424\u001b[0m, in \u001b[0;36mProcess._resume\u001b[1;34m(self, event)\u001b[0m\n\u001b[0;32m    422\u001b[0m \u001b[39mtry\u001b[39;00m:\n\u001b[0;32m    423\u001b[0m     \u001b[39m# Be optimistic and blindly access the callbacks attribute.\u001b[39;00m\n\u001b[1;32m--> 424\u001b[0m     \u001b[39mif\u001b[39;00m event\u001b[39m.\u001b[39;49mcallbacks \u001b[39mis\u001b[39;00m \u001b[39mnot\u001b[39;00m \u001b[39mNone\u001b[39;00m:\n\u001b[0;32m    425\u001b[0m         \u001b[39m# The event has not yet been triggered. Register callback\u001b[39;00m\n\u001b[0;32m    426\u001b[0m         \u001b[39m# to resume the process if that happens.\u001b[39;00m\n\u001b[0;32m    427\u001b[0m         event\u001b[39m.\u001b[39mcallbacks\u001b[39m.\u001b[39mappend(\u001b[39mself\u001b[39m\u001b[39m.\u001b[39m_resume)\n",
      "\u001b[1;31mAttributeError\u001b[0m: 'bool' object has no attribute 'callbacks'",
      "\nDuring handling of the above exception, another exception occurred:\n",
      "\u001b[1;31mFileNotFoundError\u001b[0m                         Traceback (most recent call last)",
      "Cell \u001b[1;32mIn[17], line 23\u001b[0m\n\u001b[0;32m     21\u001b[0m env\u001b[39m.\u001b[39mprocess(machine(env, queue2, queue1, \u001b[39m5\u001b[39m, \u001b[39m1\u001b[39m))\n\u001b[0;32m     22\u001b[0m env\u001b[39m.\u001b[39mprocess(machine(env, queue1, queue2, \u001b[39m1\u001b[39m, \u001b[39m1\u001b[39m))\n\u001b[1;32m---> 23\u001b[0m env\u001b[39m.\u001b[39;49mrun(until\u001b[39m=\u001b[39;49m\u001b[39m20\u001b[39;49m)\n",
      "File \u001b[1;32mc:\\Users\\pedro\\.virtualenvs\\DTvirtenv-blc9_2om\\lib\\site-packages\\simpy\\core.py:254\u001b[0m, in \u001b[0;36mEnvironment.run\u001b[1;34m(self, until)\u001b[0m\n\u001b[0;32m    252\u001b[0m \u001b[39mtry\u001b[39;00m:\n\u001b[0;32m    253\u001b[0m     \u001b[39mwhile\u001b[39;00m \u001b[39mTrue\u001b[39;00m:\n\u001b[1;32m--> 254\u001b[0m         \u001b[39mself\u001b[39;49m\u001b[39m.\u001b[39;49mstep()\n\u001b[0;32m    255\u001b[0m \u001b[39mexcept\u001b[39;00m StopSimulation \u001b[39mas\u001b[39;00m exc:\n\u001b[0;32m    256\u001b[0m     \u001b[39mreturn\u001b[39;00m exc\u001b[39m.\u001b[39margs[\u001b[39m0\u001b[39m]  \u001b[39m# == until.value\u001b[39;00m\n",
      "File \u001b[1;32mc:\\Users\\pedro\\.virtualenvs\\DTvirtenv-blc9_2om\\lib\\site-packages\\simpy\\core.py:198\u001b[0m, in \u001b[0;36mEnvironment.step\u001b[1;34m(self)\u001b[0m\n\u001b[0;32m    196\u001b[0m callbacks, event\u001b[39m.\u001b[39mcallbacks \u001b[39m=\u001b[39m event\u001b[39m.\u001b[39mcallbacks, \u001b[39mNone\u001b[39;00m  \u001b[39m# type: ignore\u001b[39;00m\n\u001b[0;32m    197\u001b[0m \u001b[39mfor\u001b[39;00m callback \u001b[39min\u001b[39;00m callbacks:\n\u001b[1;32m--> 198\u001b[0m     callback(event)\n\u001b[0;32m    200\u001b[0m \u001b[39mif\u001b[39;00m \u001b[39mnot\u001b[39;00m event\u001b[39m.\u001b[39m_ok \u001b[39mand\u001b[39;00m \u001b[39mnot\u001b[39;00m \u001b[39mhasattr\u001b[39m(event, \u001b[39m'\u001b[39m\u001b[39m_defused\u001b[39m\u001b[39m'\u001b[39m):\n\u001b[0;32m    201\u001b[0m     \u001b[39m# The event has failed and has not been defused. Crash the\u001b[39;00m\n\u001b[0;32m    202\u001b[0m     \u001b[39m# environment.\u001b[39;00m\n\u001b[0;32m    203\u001b[0m     \u001b[39m# Create a copy of the failure exception with a new traceback.\u001b[39;00m\n\u001b[0;32m    204\u001b[0m     exc \u001b[39m=\u001b[39m \u001b[39mtype\u001b[39m(event\u001b[39m.\u001b[39m_value)(\u001b[39m*\u001b[39mevent\u001b[39m.\u001b[39m_value\u001b[39m.\u001b[39margs)\n",
      "File \u001b[1;32mc:\\Users\\pedro\\.virtualenvs\\DTvirtenv-blc9_2om\\lib\\site-packages\\simpy\\events.py:436\u001b[0m, in \u001b[0;36mProcess._resume\u001b[1;34m(self, event)\u001b[0m\n\u001b[0;32m    433\u001b[0m     \u001b[39mraise\u001b[39;00m\n\u001b[0;32m    435\u001b[0m msg \u001b[39m=\u001b[39m \u001b[39mf\u001b[39m\u001b[39m'\u001b[39m\u001b[39mInvalid yield value \u001b[39m\u001b[39m\"\u001b[39m\u001b[39m{\u001b[39;00mevent\u001b[39m}\u001b[39;00m\u001b[39m\"\u001b[39m\u001b[39m'\u001b[39m\n\u001b[1;32m--> 436\u001b[0m descr \u001b[39m=\u001b[39m _describe_frame(\u001b[39mself\u001b[39;49m\u001b[39m.\u001b[39;49m_generator\u001b[39m.\u001b[39;49mgi_frame)\n\u001b[0;32m    437\u001b[0m error \u001b[39m=\u001b[39m \u001b[39mRuntimeError\u001b[39;00m(\u001b[39mf\u001b[39m\u001b[39m'\u001b[39m\u001b[39m\\n\u001b[39;00m\u001b[39m{\u001b[39;00mdescr\u001b[39m}\u001b[39;00m\u001b[39m{\u001b[39;00mmsg\u001b[39m}\u001b[39;00m\u001b[39m'\u001b[39m)\n\u001b[0;32m    438\u001b[0m \u001b[39m# Drop the AttributeError as the cause for this exception.\u001b[39;00m\n",
      "File \u001b[1;32mc:\\Users\\pedro\\.virtualenvs\\DTvirtenv-blc9_2om\\lib\\site-packages\\simpy\\events.py:645\u001b[0m, in \u001b[0;36m_describe_frame\u001b[1;34m(frame)\u001b[0m\n\u001b[0;32m    642\u001b[0m filename, name \u001b[39m=\u001b[39m frame\u001b[39m.\u001b[39mf_code\u001b[39m.\u001b[39mco_filename, frame\u001b[39m.\u001b[39mf_code\u001b[39m.\u001b[39mco_name\n\u001b[0;32m    643\u001b[0m lineno \u001b[39m=\u001b[39m frame\u001b[39m.\u001b[39mf_lineno\n\u001b[1;32m--> 645\u001b[0m \u001b[39mwith\u001b[39;00m \u001b[39mopen\u001b[39;49m(filename) \u001b[39mas\u001b[39;00m f:\n\u001b[0;32m    646\u001b[0m     \u001b[39mfor\u001b[39;00m no, line \u001b[39min\u001b[39;00m \u001b[39menumerate\u001b[39m(f):\n\u001b[0;32m    647\u001b[0m         \u001b[39mif\u001b[39;00m no \u001b[39m+\u001b[39m \u001b[39m1\u001b[39m \u001b[39m==\u001b[39m lineno:\n",
      "\u001b[1;31mFileNotFoundError\u001b[0m: [Errno 2] No such file or directory: 'C:\\\\Users\\\\pedro\\\\AppData\\\\Local\\\\Temp\\\\ipykernel_84492\\\\644055464.py'"
     ]
    }
   ],
   "source": [
    "import simpy\n",
    "\n",
    "def machine(env, queue_in, queue_out, process_time, ID):\n",
    "    while True:\n",
    "        flag_queue = False\n",
    "        if len(queue_in) != 0 : flag_queue = True\n",
    "\n",
    "        yield flag_queue\n",
    "\n",
    "        # some processing\n",
    "        queue_in.pop()\n",
    "        yield env.timeout(process_time)\n",
    "        print(f\"Time: {env.now} - [Machine {ID}] - Finished Process\")\n",
    "        queue_out.append(1)\n",
    "\n",
    "\n",
    "queue1 = []\n",
    "queue2 = [1,1,1]\n",
    "\n",
    "env = simpy.Environment()\n",
    "env.process(machine(env, queue2, queue1, 5, 1))\n",
    "env.process(machine(env, queue1, queue2, 1, 1))\n",
    "env.run(until=20)"
   ]
  },
  {
   "cell_type": "code",
   "execution_count": 18,
   "metadata": {},
   "outputs": [
    {
     "ename": "KeyboardInterrupt",
     "evalue": "",
     "output_type": "error",
     "traceback": [
      "\u001b[1;31m---------------------------------------------------------------------------\u001b[0m",
      "\u001b[1;31mKeyboardInterrupt\u001b[0m                         Traceback (most recent call last)",
      "Cell \u001b[1;32mIn[18], line 20\u001b[0m\n\u001b[0;32m     18\u001b[0m env\u001b[39m.\u001b[39mprocess(machine(env, queue2, queue1, \u001b[39m5\u001b[39m, \u001b[39m1\u001b[39m))\n\u001b[0;32m     19\u001b[0m env\u001b[39m.\u001b[39mprocess(machine(env, queue1, queue2, \u001b[39m1\u001b[39m, \u001b[39m2\u001b[39m))\n\u001b[1;32m---> 20\u001b[0m env\u001b[39m.\u001b[39;49mrun(until\u001b[39m=\u001b[39;49m\u001b[39m20\u001b[39;49m)\n",
      "File \u001b[1;32mc:\\Users\\pedro\\.virtualenvs\\DTvirtenv-blc9_2om\\lib\\site-packages\\simpy\\core.py:254\u001b[0m, in \u001b[0;36mEnvironment.run\u001b[1;34m(self, until)\u001b[0m\n\u001b[0;32m    252\u001b[0m \u001b[39mtry\u001b[39;00m:\n\u001b[0;32m    253\u001b[0m     \u001b[39mwhile\u001b[39;00m \u001b[39mTrue\u001b[39;00m:\n\u001b[1;32m--> 254\u001b[0m         \u001b[39mself\u001b[39;49m\u001b[39m.\u001b[39;49mstep()\n\u001b[0;32m    255\u001b[0m \u001b[39mexcept\u001b[39;00m StopSimulation \u001b[39mas\u001b[39;00m exc:\n\u001b[0;32m    256\u001b[0m     \u001b[39mreturn\u001b[39;00m exc\u001b[39m.\u001b[39margs[\u001b[39m0\u001b[39m]  \u001b[39m# == until.value\u001b[39;00m\n",
      "\u001b[1;31mKeyboardInterrupt\u001b[0m: "
     ]
    }
   ],
   "source": [
    "import simpy\n",
    "\n",
    "def machine(env, queue_in, queue_out, process_time, ID):\n",
    "    while True:\n",
    "        if len(queue_in) != 0:\n",
    "            # some processing\n",
    "            queue_in.pop()\n",
    "            yield env.timeout(process_time)\n",
    "            print(f\"Time: {env.now} - [Machine {ID}] - Finished Process\")\n",
    "            queue_out.append(1)\n",
    "        else:\n",
    "            yield env.timeout(0)\n",
    "\n",
    "queue1 = []\n",
    "queue2 = [1,1,1]\n",
    "\n",
    "env = simpy.Environment()\n",
    "env.process(machine(env, queue2, queue1, 5, 1))\n",
    "env.process(machine(env, queue1, queue2, 1, 2))\n",
    "env.run(until=20)\n"
   ]
  },
  {
   "cell_type": "code",
   "execution_count": 20,
   "metadata": {},
   "outputs": [
    {
     "name": "stdout",
     "output_type": "stream",
     "text": [
      "[Machine 1]: There is something in my Queue_In\n",
      "Time: 5 - [Machine 1] - Finished Process\n",
      "Queue In:  [1, 1]\n",
      "Queue Out:  [1]\n",
      "\n",
      "[Machine 1]: There is something in my Queue_In\n",
      "Time: 10 - [Machine 1] - Finished Process\n",
      "Queue In:  [1]\n",
      "Queue Out:  [1, 1]\n",
      "\n",
      "[Machine 1]: There is something in my Queue_In\n",
      "Time: 15 - [Machine 1] - Finished Process\n",
      "Queue In:  []\n",
      "Queue Out:  [1, 1, 1]\n",
      "\n"
     ]
    }
   ],
   "source": [
    "import simpy\n",
    "\n",
    "def machine(env, queue_in, queue_out, process_time, ID):\n",
    "    while True:\n",
    "        check_queue = env.event()\n",
    "\n",
    "        if len(queue_in) != 0: check_queue.succeed()\n",
    "        \n",
    "        yield check_queue\n",
    "        print(f\"[Machine {ID}]: There is something in my Queue_In\")\n",
    "\n",
    "        # some processing\n",
    "        queue_in.pop()\n",
    "        yield env.timeout(process_time)\n",
    "        print(f\"Time: {env.now} - [Machine {ID}] - Finished Process\")\n",
    "        queue_out.append(1)\n",
    "\n",
    "        print(f\"Queue In:  {queue_in}\")\n",
    "        print(f\"Queue Out:  {queue_out}\")\n",
    "        print()\n",
    "\n",
    "\n",
    "queue1 = []\n",
    "queue2 = [1,1,1]\n",
    "\n",
    "env = simpy.Environment()\n",
    "env.process(machine(env, queue2, queue1, 5, 1))\n",
    "env.process(machine(env, queue1, queue2, 1, 2))\n",
    "env.run(until=20)\n"
   ]
  }
 ],
 "metadata": {
  "kernelspec": {
   "display_name": "DTvirtenv-blc9_2om",
   "language": "python",
   "name": "python3"
  },
  "language_info": {
   "codemirror_mode": {
    "name": "ipython",
    "version": 3
   },
   "file_extension": ".py",
   "mimetype": "text/x-python",
   "name": "python",
   "nbconvert_exporter": "python",
   "pygments_lexer": "ipython3",
   "version": "3.10.9"
  },
  "orig_nbformat": 4,
  "vscode": {
   "interpreter": {
    "hash": "c4751d265fb18a2f26c44dfa1175ffe09959e8098aa26e65ced0a27c013824a8"
   }
  }
 },
 "nbformat": 4,
 "nbformat_minor": 2
}
